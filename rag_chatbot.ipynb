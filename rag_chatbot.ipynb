{
 "cells": [
  {
   "cell_type": "code",
   "execution_count": 8,
   "metadata": {},
   "outputs": [
    {
     "name": "stdout",
     "output_type": "stream",
     "text": [
      "Requirement already satisfied: numpy in ./ragapp/lib/python3.11/site-packages (2.2.2)\n",
      "\n",
      "\u001b[1m[\u001b[0m\u001b[34;49mnotice\u001b[0m\u001b[1;39;49m]\u001b[0m\u001b[39;49m A new release of pip is available: \u001b[0m\u001b[31;49m25.0\u001b[0m\u001b[39;49m -> \u001b[0m\u001b[32;49m25.0.1\u001b[0m\n",
      "\u001b[1m[\u001b[0m\u001b[34;49mnotice\u001b[0m\u001b[1;39;49m]\u001b[0m\u001b[39;49m To update, run: \u001b[0m\u001b[32;49mpip install --upgrade pip\u001b[0m\n",
      "Requirement already satisfied: openai in ./ragapp/lib/python3.11/site-packages (1.61.0)\n",
      "Requirement already satisfied: anyio<5,>=3.5.0 in ./ragapp/lib/python3.11/site-packages (from openai) (4.8.0)\n",
      "Requirement already satisfied: distro<2,>=1.7.0 in ./ragapp/lib/python3.11/site-packages (from openai) (1.9.0)\n",
      "Requirement already satisfied: httpx<1,>=0.23.0 in ./ragapp/lib/python3.11/site-packages (from openai) (0.28.1)\n",
      "Requirement already satisfied: jiter<1,>=0.4.0 in ./ragapp/lib/python3.11/site-packages (from openai) (0.8.2)\n",
      "Requirement already satisfied: pydantic<3,>=1.9.0 in ./ragapp/lib/python3.11/site-packages (from openai) (2.10.6)\n",
      "Requirement already satisfied: sniffio in ./ragapp/lib/python3.11/site-packages (from openai) (1.3.1)\n",
      "Requirement already satisfied: tqdm>4 in ./ragapp/lib/python3.11/site-packages (from openai) (4.67.1)\n",
      "Requirement already satisfied: typing-extensions<5,>=4.11 in ./ragapp/lib/python3.11/site-packages (from openai) (4.12.2)\n",
      "Requirement already satisfied: idna>=2.8 in ./ragapp/lib/python3.11/site-packages (from anyio<5,>=3.5.0->openai) (3.10)\n",
      "Requirement already satisfied: certifi in ./ragapp/lib/python3.11/site-packages (from httpx<1,>=0.23.0->openai) (2025.1.31)\n",
      "Requirement already satisfied: httpcore==1.* in ./ragapp/lib/python3.11/site-packages (from httpx<1,>=0.23.0->openai) (1.0.7)\n",
      "Requirement already satisfied: h11<0.15,>=0.13 in ./ragapp/lib/python3.11/site-packages (from httpcore==1.*->httpx<1,>=0.23.0->openai) (0.14.0)\n",
      "Requirement already satisfied: annotated-types>=0.6.0 in ./ragapp/lib/python3.11/site-packages (from pydantic<3,>=1.9.0->openai) (0.7.0)\n",
      "Requirement already satisfied: pydantic-core==2.27.2 in ./ragapp/lib/python3.11/site-packages (from pydantic<3,>=1.9.0->openai) (2.27.2)\n",
      "\n",
      "\u001b[1m[\u001b[0m\u001b[34;49mnotice\u001b[0m\u001b[1;39;49m]\u001b[0m\u001b[39;49m A new release of pip is available: \u001b[0m\u001b[31;49m25.0\u001b[0m\u001b[39;49m -> \u001b[0m\u001b[32;49m25.0.1\u001b[0m\n",
      "\u001b[1m[\u001b[0m\u001b[34;49mnotice\u001b[0m\u001b[1;39;49m]\u001b[0m\u001b[39;49m To update, run: \u001b[0m\u001b[32;49mpip install --upgrade pip\u001b[0m\n"
     ]
    }
   ],
   "source": [
    "!pip install numpy\n",
    "!pip install openai"
   ]
  },
  {
   "cell_type": "code",
   "execution_count": 9,
   "metadata": {},
   "outputs": [],
   "source": [
    "import  openai\n",
    "import numpy as np"
   ]
  },
  {
   "cell_type": "code",
   "execution_count": 10,
   "metadata": {},
   "outputs": [],
   "source": [
    "openai_client = openai.OpenAI(api_key=\"<My Open API key>\")"
   ]
  },
  {
   "cell_type": "code",
   "execution_count": 11,
   "metadata": {},
   "outputs": [],
   "source": [
    "def embedding_model(query, openai_client, model=\"text-embedding-3-small\"):\n",
    "    # This function calculates and returns an embedding\n",
    "    embedding = openai_client.embeddings.create(input = [query], model=model).data[0].embedding\n",
    "    return embedding"
   ]
  },
  {
   "cell_type": "code",
   "execution_count": 12,
   "metadata": {},
   "outputs": [],
   "source": [
    "def cosine_similarity(vec1, vec2):\n",
    "    # This function creates cosine similarity using only numpy\n",
    "    return np.dot(vec1, vec2) / (np.linalg.norm(vec1) * np.linalg.norm(vec2))"
   ]
  },
  {
   "cell_type": "code",
   "execution_count": 13,
   "metadata": {},
   "outputs": [],
   "source": [
    "faq_database = {\n",
    "    \"What is your return policy?\": \"Our return policy allows customers to return products within 30 days of purchase. Items must be in their original condition and packaging. To initiate a return, visit our return portal and provide your order number and email address.\",\n",
    "\n",
    "    \"How do I track my order?\": \"You can track your order by using the tracking number provided in the shipment confirmation email. Alternatively, you can log in to your account and go to the 'Order History' section to find the tracking link.\",\n",
    "\n",
    "    \"What payment methods do you accept?\": \"We accept all major credit cards (Visa, MasterCard, American Express), PayPal, and Apple Pay. For corporate accounts, we also offer invoicing options. Please contact support for more information on setting up a corporate account.\",\n",
    "\n",
    "    \"Can I change or cancel my order after it’s been placed?\": \"Once an order has been placed, we are unable to modify it directly. However, you can cancel your order within the first hour of placing it through the 'My Orders' section of your account. After that, you’ll need to wait for the order to be delivered and then initiate a return.\",\n",
    "\n",
    "    \"What are your shipping options?\": \"We offer standard, expedited, and overnight shipping. Standard shipping takes 5-7 business days, while expedited shipping takes 2-3 business days. Overnight shipping ensures delivery by the next business day. International shipping options are also available, with delivery times varying by destination.\",\n",
    "\n",
    "    \"How do I reset my account password?\": \"To reset your password, go to the login page and click on 'Forgot Password'. You will receive an email with instructions to reset your password. If you don't see the email, check your spam folder or contact customer support for help.\",\n",
    "\n",
    "    \"Do you ship internationally?\": \"Yes, we ship to select international destinations. International shipping costs and delivery times vary depending on the destination. You can calculate the shipping costs at checkout after providing your address.\",\n",
    "\n",
    "    \"What do I do if I receive a damaged or defective product?\": \"If you receive a damaged or defective product, please contact our customer support within 48 hours of receiving the item. We will provide instructions on how to return the product or arrange for a replacement. Make sure to include photos of the damaged item and packaging for faster processing.\",\n",
    "\n",
    "    \"How do I contact customer support?\": \"You can contact our customer support via email at support@ourcompany.com, or by calling our support line at 1-800-123-4567 during business hours (9 AM to 5 PM, Monday to Friday). We also offer live chat support on our website.\",\n",
    "\n",
    "    \"Can I use multiple discount codes on a single order?\": \"No, our system only allows one discount code per order. However, you can apply store credit or a gift card in addition to a discount code at checkout.\",\n",
    "\n",
    "    \"How do I update my shipping address after placing an order?\": \"If your order has not yet been processed, you can update your shipping address by logging into your account and navigating to the 'My Orders' section. If the order has already been processed or shipped, you will need to contact customer support to discuss possible options.\",\n",
    "\n",
    "    \"What should I do if I never received my order?\": \"If your order has not arrived by the estimated delivery date, first check the tracking information. If the tracking shows the item was delivered but you didn't receive it, contact customer support so we can investigate and resolve the issue.\",\n",
    "\n",
    "    \"Do you offer gift wrapping?\": \"Yes, we offer gift wrapping for an additional fee. You can select the gift wrapping option at checkout, and you can also include a personalized message with the gift.\",\n",
    "\n",
    "    \"Can I return a product after 30 days?\": \"Unfortunately, returns are only accepted within 30 days of the purchase date. If you have extenuating circumstances, please contact customer support to discuss possible exceptions on a case-by-case basis.\",\n",
    "\n",
    "    \"What are your business hours?\": \"Our customer support team is available from 9 AM to 5 PM, Monday through Friday, excluding holidays. Our website is available for orders 24/7.\",\n",
    "\n",
    "    \"How do I subscribe to your newsletter?\": \"To subscribe to our newsletter, scroll to the bottom of our homepage and enter your email in the subscription box. You’ll receive exclusive offers, product updates, and company news directly to your inbox.\",\n",
    "\n",
    "    \"What is your warranty policy?\": \"We offer a one-year warranty on all our products. The warranty covers manufacturing defects but does not cover damage caused by misuse, accidents, or normal wear and tear. To file a warranty claim, contact our customer support team with your order details and a description of the issue.\",\n",
    "\n",
    "    \"How can I become a reseller of your products?\": \"We welcome reseller partnerships! If you're interested in becoming a reseller, please contact our sales team at sales@ourcompany.com with details about your business, and we’ll get back to you with more information.\",\n",
    "\n",
    "    \"Do you offer student discounts?\": \"Yes, we offer a 10% discount for students. To get the discount, sign up with your valid student email, and we will verify your status. After verification, you will receive a unique discount code to use at checkout.\",\n",
    "\n",
    "    \"Can I expedite the shipping of my order?\": \"Yes, you can select expedited or overnight shipping at checkout. Expedited shipping typically takes 2-3 business days, while overnight shipping ensures delivery by the next business day. Please note that expedited shipping costs more than standard shipping.\"\n",
    "}"
   ]
  },
  {
   "cell_type": "code",
   "execution_count": 14,
   "metadata": {},
   "outputs": [],
   "source": [
    "vector_database = {}\n",
    "\n",
    "for q in faq_database:\n",
    "    vector_database[q] = embedding_model(q, openai_client)"
   ]
  },
  {
   "cell_type": "code",
   "execution_count": 15,
   "metadata": {},
   "outputs": [],
   "source": [
    "def find_most_similar_faq(query, faq_vector_db, openai_client):\n",
    "    query_embedding = embedding_model(query, openai_client)\n",
    "    best_match = None\n",
    "    highest_similarity = -1\n",
    "\n",
    "    for faq_question, faq_embedding in faq_vector_db.items():\n",
    "        similarity = cosine_similarity(query_embedding, faq_embedding)\n",
    "        if similarity > highest_similarity:\n",
    "            best_match = faq_question\n",
    "            highest_similarity = similarity\n",
    "    \n",
    "    return best_match"
   ]
  },
  {
   "cell_type": "code",
   "execution_count": 16,
   "metadata": {},
   "outputs": [],
   "source": [
    "system_prompt = {\n",
    "    \"role\": \"system\",\n",
    "    \"content\": f\"\"\"\n",
    "    You are a helpful E-commerce assistant helping customers with their general questions regarding policies and procedures when buying in our stores.\n",
    "    Our store sells e-books and courses for IT professionals.\n",
    "    \"\"\"\n",
    "}"
   ]
  },
  {
   "cell_type": "code",
   "execution_count": 17,
   "metadata": {},
   "outputs": [],
   "source": [
    "def get_answer(question, database):\n",
    "    return database[question]"
   ]
  },
  {
   "cell_type": "code",
   "execution_count": 18,
   "metadata": {},
   "outputs": [],
   "source": [
    "def prompt_builder(system_message, context):\n",
    "    return system_message['content'].format(context)"
   ]
  },
  {
   "cell_type": "code",
   "execution_count": 19,
   "metadata": {},
   "outputs": [],
   "source": [
    "def rag_chatbot(query, vector_database, faq_database, openai_client):\n",
    "\n",
    "    # 1. Find the most similar FAQ using cosine similarity\n",
    "    best_match = find_most_similar_faq(query, vector_database, openai_client)\n",
    "    best_answer = get_answer(best_match, faq_database)\n",
    "\n",
    "    # 2. Combine the context (best match) with the query\n",
    "    augmented_prompt = prompt_builder(system_prompt, best_answer)\n",
    "\n",
    "    messages = [\n",
    "        {\"role\": \"system\", \"content\": augmented_prompt},\n",
    "        {\"role\": \"user\", \"content\": query}\n",
    "    ]\n",
    "\n",
    "    # 3. Use OpenAI API to generate a response with context\n",
    "    response = openai_client.chat.completions.create(\n",
    "        model = \"gpt-4o\",\n",
    "        messages = messages,\n",
    "        max_tokens = 250\n",
    "    )\n",
    "\n",
    "    return response.choices[0].message.content\n"
   ]
  },
  {
   "cell_type": "code",
   "execution_count": 20,
   "metadata": {},
   "outputs": [
    {
     "name": "stdout",
     "output_type": "stream",
     "text": [
      "Bot: We understand that sometimes a purchase may not meet your expectations. Since we sell e-books and courses, which are digital products, our return policy can vary. Generally, we offer returns or exchanges under certain conditions, such as technical issues with accessing the content or if you accidentally purchased the wrong item.\n",
      "\n",
      "If you believe you qualify for a return or need assistance, please contact our customer support team. They will be happy to help address your concerns and guide you through the process.\n"
     ]
    }
   ],
   "source": [
    "# Example query\n",
    "query = \"Can I return an item?\"\n",
    "response = rag_chatbot(query, vector_database, faq_database, openai_client)\n",
    "print(f\"Bot: {response}\")"
   ]
  },
  {
   "cell_type": "code",
   "execution_count": null,
   "metadata": {},
   "outputs": [],
   "source": []
  }
 ],
 "metadata": {
  "kernelspec": {
   "display_name": "ragapp",
   "language": "python",
   "name": "python3"
  },
  "language_info": {
   "codemirror_mode": {
    "name": "ipython",
    "version": 3
   },
   "file_extension": ".py",
   "mimetype": "text/x-python",
   "name": "python",
   "nbconvert_exporter": "python",
   "pygments_lexer": "ipython3",
   "version": "3.11.7"
  }
 },
 "nbformat": 4,
 "nbformat_minor": 2
}
